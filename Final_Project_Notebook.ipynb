{
 "cells": [
  {
   "cell_type": "markdown",
   "id": "087fdc37",
   "metadata": {},
   "source": [
    "# Import Required Libraries"
   ]
  },
  {
   "cell_type": "code",
   "execution_count": 1,
   "id": "3acb7b7b",
   "metadata": {},
   "outputs": [],
   "source": [
    "import pandas as pd\n",
    "import numpy as np\n",
    "import matplotlib.pyplot as plt\n",
    "import ruptures as rpt\n",
    "import os"
   ]
  },
  {
   "cell_type": "code",
   "execution_count": 38,
   "id": "bbd54f3c",
   "metadata": {},
   "outputs": [],
   "source": [
    "# Create directories\n",
    "os.makedirs('./images/plots/')\n",
    "os.makedirs('./images/EDA/')\n",
    "os.makedirs('./intermediate_data/')"
   ]
  },
  {
   "cell_type": "markdown",
   "id": "64e1f328",
   "metadata": {},
   "source": [
    "## County Assigned: Maricopa, AZ, US"
   ]
  },
  {
   "cell_type": "markdown",
   "id": "fcd204fc",
   "metadata": {},
   "source": [
    "### Data Sources:\n",
    "1. John Hopkins University COVID-19 data \n",
    "2. Masking mandates by county \n",
    "3. The New York Times mask compliance survey data \n",
    "4. Federal Reserve Economic Data, FRED Monthly Data\n",
    "5. CDC’s Agency for Toxic Substances and Disease Registry Data:\n",
    "6. Argonne National Laboratory Data for Different Sector Information"
   ]
  },
  {
   "cell_type": "markdown",
   "id": "db274b66",
   "metadata": {},
   "source": [
    "#### Note:\n",
    "Since each of the questions requires different CSVs to be loaded, we will be breaking this notebook down, in terms of questions (Local Functions, Data Acquistion/Loading, Cleaning, EDA, Analysis, Findings)"
   ]
  },
  {
   "cell_type": "markdown",
   "id": "fc574260",
   "metadata": {},
   "source": [
    "### Question 1: What was the influence of the pandemic on the unemployment rate and Civil Labor Force in the county?"
   ]
  },
  {
   "cell_type": "markdown",
   "id": "9e22bd2f",
   "metadata": {},
   "source": [
    "Hypothesis: Since, increase of COVID-19 cases would have led to many industries shutting down or practicing social distancing, the unemployment rates would be impacted for them. Hence, impacting overall Unemployment and CLF in the country"
   ]
  },
  {
   "cell_type": "markdown",
   "id": "067f8263",
   "metadata": {},
   "source": [
    "#### Domain Knowledge:\n",
    "Civilian labor force is a term used by the Bureau of Labor Statistics (BLS) to categorize the portion of the U.S. civilian population that it considers either employed or unemployed. Military personnel, federal government employees, retirees, handicapped or discouraged workers, and agricultural workers are not part of the civilian labor force."
   ]
  },
  {
   "cell_type": "markdown",
   "id": "2ae66f57",
   "metadata": {},
   "source": [
    "### 1.1 Data Loading"
   ]
  },
  {
   "cell_type": "code",
   "execution_count": 2,
   "id": "0443ae0c",
   "metadata": {},
   "outputs": [],
   "source": [
    "# Reading the CSVs for Labor Force and Unemployment\n",
    "df_civilian_labor_force=pd.read_csv('./CivilianLaborForce.csv')\n",
    "df_unemployment=pd.read_csv('./Unemployment.csv')"
   ]
  },
  {
   "cell_type": "code",
   "execution_count": 3,
   "id": "ebe54110",
   "metadata": {},
   "outputs": [
    {
     "data": {
      "text/html": [
       "<div>\n",
       "<style scoped>\n",
       "    .dataframe tbody tr th:only-of-type {\n",
       "        vertical-align: middle;\n",
       "    }\n",
       "\n",
       "    .dataframe tbody tr th {\n",
       "        vertical-align: top;\n",
       "    }\n",
       "\n",
       "    .dataframe thead th {\n",
       "        text-align: right;\n",
       "    }\n",
       "</style>\n",
       "<table border=\"1\" class=\"dataframe\">\n",
       "  <thead>\n",
       "    <tr style=\"text-align: right;\">\n",
       "      <th></th>\n",
       "      <th>DATE</th>\n",
       "      <th>AZMARI3LFN</th>\n",
       "    </tr>\n",
       "  </thead>\n",
       "  <tbody>\n",
       "    <tr>\n",
       "      <th>0</th>\n",
       "      <td>1990-01-01</td>\n",
       "      <td>1088959</td>\n",
       "    </tr>\n",
       "    <tr>\n",
       "      <th>1</th>\n",
       "      <td>1990-02-01</td>\n",
       "      <td>1092079</td>\n",
       "    </tr>\n",
       "    <tr>\n",
       "      <th>2</th>\n",
       "      <td>1990-03-01</td>\n",
       "      <td>1095561</td>\n",
       "    </tr>\n",
       "    <tr>\n",
       "      <th>3</th>\n",
       "      <td>1990-04-01</td>\n",
       "      <td>1098910</td>\n",
       "    </tr>\n",
       "    <tr>\n",
       "      <th>4</th>\n",
       "      <td>1990-05-01</td>\n",
       "      <td>1106691</td>\n",
       "    </tr>\n",
       "  </tbody>\n",
       "</table>\n",
       "</div>"
      ],
      "text/plain": [
       "         DATE  AZMARI3LFN\n",
       "0  1990-01-01     1088959\n",
       "1  1990-02-01     1092079\n",
       "2  1990-03-01     1095561\n",
       "3  1990-04-01     1098910\n",
       "4  1990-05-01     1106691"
      ]
     },
     "execution_count": 3,
     "metadata": {},
     "output_type": "execute_result"
    }
   ],
   "source": [
    "# Snapshot of the data\n",
    "df_civilian_labor_force.head()"
   ]
  },
  {
   "cell_type": "code",
   "execution_count": 4,
   "id": "c8577405",
   "metadata": {},
   "outputs": [
    {
     "data": {
      "text/html": [
       "<div>\n",
       "<style scoped>\n",
       "    .dataframe tbody tr th:only-of-type {\n",
       "        vertical-align: middle;\n",
       "    }\n",
       "\n",
       "    .dataframe tbody tr th {\n",
       "        vertical-align: top;\n",
       "    }\n",
       "\n",
       "    .dataframe thead th {\n",
       "        text-align: right;\n",
       "    }\n",
       "</style>\n",
       "<table border=\"1\" class=\"dataframe\">\n",
       "  <thead>\n",
       "    <tr style=\"text-align: right;\">\n",
       "      <th></th>\n",
       "      <th>DATE</th>\n",
       "      <th>LAUCN040130000000004</th>\n",
       "    </tr>\n",
       "  </thead>\n",
       "  <tbody>\n",
       "    <tr>\n",
       "      <th>0</th>\n",
       "      <td>1990-01-01</td>\n",
       "      <td>49640</td>\n",
       "    </tr>\n",
       "    <tr>\n",
       "      <th>1</th>\n",
       "      <td>1990-02-01</td>\n",
       "      <td>46142</td>\n",
       "    </tr>\n",
       "    <tr>\n",
       "      <th>2</th>\n",
       "      <td>1990-03-01</td>\n",
       "      <td>46252</td>\n",
       "    </tr>\n",
       "    <tr>\n",
       "      <th>3</th>\n",
       "      <td>1990-04-01</td>\n",
       "      <td>46339</td>\n",
       "    </tr>\n",
       "    <tr>\n",
       "      <th>4</th>\n",
       "      <td>1990-05-01</td>\n",
       "      <td>46210</td>\n",
       "    </tr>\n",
       "  </tbody>\n",
       "</table>\n",
       "</div>"
      ],
      "text/plain": [
       "         DATE  LAUCN040130000000004\n",
       "0  1990-01-01                 49640\n",
       "1  1990-02-01                 46142\n",
       "2  1990-03-01                 46252\n",
       "3  1990-04-01                 46339\n",
       "4  1990-05-01                 46210"
      ]
     },
     "execution_count": 4,
     "metadata": {},
     "output_type": "execute_result"
    }
   ],
   "source": [
    "# Snapshot of the unemployment data\n",
    "df_unemployment.head()"
   ]
  },
  {
   "cell_type": "markdown",
   "id": "423cb49b",
   "metadata": {},
   "source": [
    "### 1.2 Data Understanding and Cleaning"
   ]
  },
  {
   "cell_type": "code",
   "execution_count": 5,
   "id": "19883f1e",
   "metadata": {},
   "outputs": [],
   "source": [
    "# Renaming columns for understanding\n",
    "df_civilian_labor_force=df_civilian_labor_force.rename(columns={'AZMARI3LFN':'Civilian_Labor_Force_Population'})\n",
    "df_unemployment=df_unemployment.rename(columns={'LAUCN040130000000004': 'Unemployed_Population'})"
   ]
  },
  {
   "cell_type": "code",
   "execution_count": 6,
   "id": "7a165700",
   "metadata": {},
   "outputs": [
    {
     "name": "stdout",
     "output_type": "stream",
     "text": [
      "(394, 2)\n"
     ]
    },
    {
     "data": {
      "text/html": [
       "<div>\n",
       "<style scoped>\n",
       "    .dataframe tbody tr th:only-of-type {\n",
       "        vertical-align: middle;\n",
       "    }\n",
       "\n",
       "    .dataframe tbody tr th {\n",
       "        vertical-align: top;\n",
       "    }\n",
       "\n",
       "    .dataframe thead th {\n",
       "        text-align: right;\n",
       "    }\n",
       "</style>\n",
       "<table border=\"1\" class=\"dataframe\">\n",
       "  <thead>\n",
       "    <tr style=\"text-align: right;\">\n",
       "      <th></th>\n",
       "      <th>Civilian_Labor_Force_Population</th>\n",
       "    </tr>\n",
       "  </thead>\n",
       "  <tbody>\n",
       "    <tr>\n",
       "      <th>count</th>\n",
       "      <td>3.940000e+02</td>\n",
       "    </tr>\n",
       "    <tr>\n",
       "      <th>mean</th>\n",
       "      <td>1.770236e+06</td>\n",
       "    </tr>\n",
       "    <tr>\n",
       "      <th>std</th>\n",
       "      <td>3.515917e+05</td>\n",
       "    </tr>\n",
       "    <tr>\n",
       "      <th>min</th>\n",
       "      <td>1.088959e+06</td>\n",
       "    </tr>\n",
       "    <tr>\n",
       "      <th>25%</th>\n",
       "      <td>1.497220e+06</td>\n",
       "    </tr>\n",
       "    <tr>\n",
       "      <th>50%</th>\n",
       "      <td>1.892480e+06</td>\n",
       "    </tr>\n",
       "    <tr>\n",
       "      <th>75%</th>\n",
       "      <td>1.989714e+06</td>\n",
       "    </tr>\n",
       "    <tr>\n",
       "      <th>max</th>\n",
       "      <td>2.388131e+06</td>\n",
       "    </tr>\n",
       "  </tbody>\n",
       "</table>\n",
       "</div>"
      ],
      "text/plain": [
       "       Civilian_Labor_Force_Population\n",
       "count                     3.940000e+02\n",
       "mean                      1.770236e+06\n",
       "std                       3.515917e+05\n",
       "min                       1.088959e+06\n",
       "25%                       1.497220e+06\n",
       "50%                       1.892480e+06\n",
       "75%                       1.989714e+06\n",
       "max                       2.388131e+06"
      ]
     },
     "execution_count": 6,
     "metadata": {},
     "output_type": "execute_result"
    }
   ],
   "source": [
    "# Looking at the data summary to find missing values, outliers\n",
    "print (df_civilian_labor_force.shape)\n",
    "df_civilian_labor_force.describe()\n",
    "\n",
    "# Data looks complete"
   ]
  },
  {
   "cell_type": "code",
   "execution_count": 7,
   "id": "f8907986",
   "metadata": {},
   "outputs": [
    {
     "name": "stdout",
     "output_type": "stream",
     "text": [
      "(394, 2)\n"
     ]
    },
    {
     "data": {
      "text/html": [
       "<div>\n",
       "<style scoped>\n",
       "    .dataframe tbody tr th:only-of-type {\n",
       "        vertical-align: middle;\n",
       "    }\n",
       "\n",
       "    .dataframe tbody tr th {\n",
       "        vertical-align: top;\n",
       "    }\n",
       "\n",
       "    .dataframe thead th {\n",
       "        text-align: right;\n",
       "    }\n",
       "</style>\n",
       "<table border=\"1\" class=\"dataframe\">\n",
       "  <thead>\n",
       "    <tr style=\"text-align: right;\">\n",
       "      <th></th>\n",
       "      <th>Unemployed_Population</th>\n",
       "    </tr>\n",
       "  </thead>\n",
       "  <tbody>\n",
       "    <tr>\n",
       "      <th>count</th>\n",
       "      <td>394.000000</td>\n",
       "    </tr>\n",
       "    <tr>\n",
       "      <th>mean</th>\n",
       "      <td>89029.497462</td>\n",
       "    </tr>\n",
       "    <tr>\n",
       "      <th>std</th>\n",
       "      <td>40843.232534</td>\n",
       "    </tr>\n",
       "    <tr>\n",
       "      <th>min</th>\n",
       "      <td>34185.000000</td>\n",
       "    </tr>\n",
       "    <tr>\n",
       "      <th>25%</th>\n",
       "      <td>56517.250000</td>\n",
       "    </tr>\n",
       "    <tr>\n",
       "      <th>50%</th>\n",
       "      <td>79450.500000</td>\n",
       "    </tr>\n",
       "    <tr>\n",
       "      <th>75%</th>\n",
       "      <td>104545.000000</td>\n",
       "    </tr>\n",
       "    <tr>\n",
       "      <th>max</th>\n",
       "      <td>282195.000000</td>\n",
       "    </tr>\n",
       "  </tbody>\n",
       "</table>\n",
       "</div>"
      ],
      "text/plain": [
       "       Unemployed_Population\n",
       "count             394.000000\n",
       "mean            89029.497462\n",
       "std             40843.232534\n",
       "min             34185.000000\n",
       "25%             56517.250000\n",
       "50%             79450.500000\n",
       "75%            104545.000000\n",
       "max            282195.000000"
      ]
     },
     "execution_count": 7,
     "metadata": {},
     "output_type": "execute_result"
    }
   ],
   "source": [
    "# Looking at the data summary to find missing values, outliers\n",
    "\n",
    "print (df_unemployment.shape)\n",
    "df_unemployment.describe()\n",
    "\n",
    "# Data looks complete"
   ]
  },
  {
   "cell_type": "markdown",
   "id": "8f5727d3",
   "metadata": {},
   "source": [
    "### 1.3 Data Transformations/Filtering"
   ]
  },
  {
   "cell_type": "code",
   "execution_count": 8,
   "id": "b018cf69",
   "metadata": {},
   "outputs": [],
   "source": [
    "# Filtering the data to recent years as that is what the analysis is about\n",
    "\n",
    "df_civilian_labor_force=df_civilian_labor_force[df_civilian_labor_force['DATE']>'2018-01-01']\n",
    "df_unemployment=df_unemployment[df_unemployment['DATE']>'2018-01-01']"
   ]
  },
  {
   "cell_type": "markdown",
   "id": "9231a3e1",
   "metadata": {},
   "source": [
    "### 1.4 Exploratory Data Analysis"
   ]
  },
  {
   "cell_type": "code",
   "execution_count": 39,
   "id": "ed84e282",
   "metadata": {},
   "outputs": [
    {
     "data": {
      "image/png": "[encoded data removed]",
      "text/plain": [
       "<Figure size 720x504 with 1 Axes>"
      ]
     },
     "metadata": {
      "needs_background": "light"
     },
     "output_type": "display_data"
    },
    {
     "data": {
      "text/plain": [
       "<Figure size 432x288 with 0 Axes>"
      ]
     },
     "metadata": {},
     "output_type": "display_data"
    }
   ],
   "source": [
    "# Creating box plots to look at distribution of values for both the variables. \n",
    "# Boxplots help in highlighting skewed distributions or finding outliers.\n",
    "\n",
    "data=[df_civilian_labor_force['Civilian_Labor_Force_Population'], df_unemployment['Unemployed_Population']]\n",
    "fig = plt.figure(figsize =(10, 7))\n",
    "\n",
    "# Creating axes instance\n",
    "ax = fig.add_axes([0, 0, 1, 1])\n",
    " \n",
    "# Creating plot\n",
    "bp = ax.boxplot(data)\n",
    "ax.set_xticklabels(['Civilian_Labor_Force_Population', 'Unemployed_Population'])\n",
    "plt.title('Civilian Labor Force and Unemployed Population Distribution(2018-2022)')\n",
    "plt.ylabel('Values')\n",
    "plt.xlabel('Category')\n",
    "# show plot\n",
    "plt.show()\n",
    "plt.savefig('./images/EDA/CLF_Unemployment_boxplot.png')"
   ]
  },
  {
   "cell_type": "markdown",
   "id": "3a2368da",
   "metadata": {},
   "source": [
    "Findings:\n",
    "1. Civilian Labor Force does not show any outliers\n",
    "2. Unemployment distribution shows some outliers but they could be influential points for this analysis as a impact of COVID-19, hence we won't be removing them."
   ]
  },
  {
   "cell_type": "code",
   "execution_count": 40,
   "id": "920cfb95",
   "metadata": {},
   "outputs": [
    {
     "data": {
      "image/png": "[encoded data removed]",
      "text/plain": [
       "<Figure size 1440x504 with 1 Axes>"
      ]
     },
     "metadata": {
      "needs_background": "light"
     },
     "output_type": "display_data"
    },
    {
     "data": {
      "text/plain": [
       "<Figure size 432x288 with 0 Axes>"
      ]
     },
     "metadata": {},
     "output_type": "display_data"
    }
   ],
   "source": [
    "# Plotting the graph for checking the change in Civilian Labor Force over time from 2018-2022.\n",
    "\n",
    "fig = plt.figure(figsize =(20, 7))\n",
    "plt.title('Change in Civilian Labor Force Population over time (2018-22)')\n",
    "plt.xlabel('Date')\n",
    "plt.ylabel('Civilian Labor Force Population')\n",
    "plt.plot(df_civilian_labor_force['DATE'], df_civilian_labor_force['Civilian_Labor_Force_Population'])\n",
    "plt.xticks(rotation=30)\n",
    "plt.show()\n",
    "plt.savefig('./images/EDA/CLF_trends.png')"
   ]
  },
  {
   "cell_type": "code",
   "execution_count": 41,
   "id": "3ad50582",
   "metadata": {},
   "outputs": [
    {
     "data": {
      "image/png": "[encoded data removed]",
      "text/plain": [
       "<Figure size 1440x504 with 1 Axes>"
      ]
     },
     "metadata": {
      "needs_background": "light"
     },
     "output_type": "display_data"
    },
    {
     "data": {
      "text/plain": [
       "<Figure size 432x288 with 0 Axes>"
      ]
     },
     "metadata": {},
     "output_type": "display_data"
    }
   ],
   "source": [
    "# Plotting the graph for checking the change in Unemployment over time from 2018-2022.\n",
    "\n",
    "\n",
    "fig = plt.figure(figsize =(20, 7))\n",
    "plt.title('Change in Unemployment over time (2018-22)')\n",
    "plt.xlabel('Date')\n",
    "plt.ylabel('Unemployed Population')\n",
    "plt.plot(df_unemployment['DATE'], df_unemployment['Unemployed_Population'])\n",
    "plt.xticks(rotation=30)\n",
    "plt.show()\n",
    "plt.savefig('./images/EDA/Unemployment_trends.png')"
   ]
  },
  {
   "cell_type": "code",
   "execution_count": 15,
   "id": "af2f4930",
   "metadata": {},
   "outputs": [],
   "source": [
    "### Saving these cleaned files as intermediate files\n",
    "df_civilian_labor_force.to_csv('./intermediate_data/civilian_labor_force_population.csv')\n",
    "df_unemployment.to_csv('./intermediate_data/unemployed_population.csv')"
   ]
  },
  {
   "cell_type": "markdown",
   "id": "2e259a69",
   "metadata": {},
   "source": [
    "### 1.5 Loading COVID-19 data from Common Analysis"
   ]
  },
  {
   "cell_type": "code",
   "execution_count": 42,
   "id": "6f778096",
   "metadata": {},
   "outputs": [
    {
     "data": {
      "text/plain": [
       "<Figure size 2160x504 with 0 Axes>"
      ]
     },
     "metadata": {},
     "output_type": "display_data"
    },
    {
     "data": {
      "image/png": "[encoded data removed]",
      "text/plain": [
       "<Figure size 432x288 with 1 Axes>"
      ]
     },
     "metadata": {
      "needs_background": "light"
     },
     "output_type": "display_data"
    }
   ],
   "source": [
    "# This code snippet reads the COVID-19 cases data and filters it for Maricopa County. This snipped is referred from\n",
    "# Part 1 Common analysis.\n",
    "\n",
    "fig = plt.figure(figsize =(30, 7))\n",
    "\n",
    "raw_us_confirmed_cases = pd.read_csv(\"./common_analysis_data/RAW_us_confirmed_cases.csv\") \n",
    "raw_maricopa_cases = raw_us_confirmed_cases[(raw_us_confirmed_cases[\"Province_State\"] == \"Arizona\") & (raw_us_confirmed_cases[\"Admin2\"] == \"Maricopa\")]\n",
    "maricopa_cases_by_date =  raw_maricopa_cases[raw_maricopa_cases.columns[11:]]\n",
    "maricopa_cases_by_date = pd.DataFrame(maricopa_cases_by_date.iloc[0])\n",
    "maricopa_cases_by_date = maricopa_cases_by_date.reset_index()\n",
    "maricopa_cases_by_date.columns = [\"date\", \"number_of_cases\"]\n",
    "\n",
    "maricopa_cases_by_date.head()\n",
    "\n",
    "\n",
    "# Creating additional columns for year and month and then getting the number of new confirmed cases per day.\n",
    "# This is then grouped to get the count of total monthly cases.\n",
    "maricopa_cases_by_date['year']=pd.to_datetime(maricopa_cases_by_date['date']).dt.year\n",
    "maricopa_cases_by_date['month']=pd.to_datetime(maricopa_cases_by_date['date']).dt.month\n",
    "maricopa_cases_by_month=maricopa_cases_by_date.groupby(by=['year','month']).sum().reset_index()\n",
    "maricopa_cases_by_month['delta']=maricopa_cases_by_month['number_of_cases'].diff()\n",
    "\n",
    "date=[]\n",
    "for i in range(len(maricopa_cases_by_month)):\n",
    "    date.append(str(list(maricopa_cases_by_month['year'])[i])+'/'+str(list(maricopa_cases_by_month['month'])[i]))\n",
    "maricopa_cases_by_month['date']=date\n",
    "\n",
    "# Plotting the monthly cases and observing the change\n",
    "fig, ax=plt.subplots()\n",
    "plt.xticks(rotation=90)\n",
    "ax.plot(maricopa_cases_by_month['date'], maricopa_cases_by_month['delta'])\n",
    "plt.title(\"COVID-19 Cases - Maricopa County (Arizona, US)\")\n",
    "plt.xlabel(\"Time\")\n",
    "plt.ylabel(\"Monthly COVID-19 cases\")\n",
    "plt.savefig('./images/EDA/COVID_19_cases.png')"
   ]
  },
  {
   "cell_type": "code",
   "execution_count": 17,
   "id": "d7823a44",
   "metadata": {},
   "outputs": [],
   "source": [
    "maricopa_cases_by_month.to_csv('./intermediate_data/COVID_cases_by_month.csv')"
   ]
  },
  {
   "cell_type": "markdown",
   "id": "e223e311",
   "metadata": {},
   "source": [
    "### 1.6 Analysis: Check for correlation between COVID-19 monthly cases and Civilian Labor Force and Unemployment"
   ]
  },
  {
   "cell_type": "code",
   "execution_count": 18,
   "id": "331d71e3",
   "metadata": {},
   "outputs": [],
   "source": [
    "# Creating same columns for Civilian Labor force as for COVID-19 cases above.\n",
    "\n",
    "df_civilian_labor_force['year']=pd.to_datetime(df_civilian_labor_force['DATE']).dt.year\n",
    "df_civilian_labor_force['month']=pd.to_datetime(df_civilian_labor_force['DATE']).dt.month\n",
    "date=[]\n",
    "for i in range(len(df_civilian_labor_force)):\n",
    "    date.append(str(list(df_civilian_labor_force['year'])[i])+'/'+str(list(df_civilian_labor_force['month'])[i]))\n",
    "df_civilian_labor_force['date']=date"
   ]
  },
  {
   "cell_type": "code",
   "execution_count": 19,
   "id": "c59cbe80",
   "metadata": {},
   "outputs": [],
   "source": [
    "# Merging the dataframes on dates to do an apples-to-apples comparison.\n",
    "clf_cases_df=pd.merge(maricopa_cases_by_month, df_civilian_labor_force, left_on='date', right_on='date', how='inner')"
   ]
  },
  {
   "cell_type": "code",
   "execution_count": 20,
   "id": "5b840d6a",
   "metadata": {},
   "outputs": [],
   "source": [
    "from scipy.stats import pearsonr\n",
    "\n",
    "# Filling NaN values with Zero, these values are not a part of correlation analysis variables\n",
    "clf_cases_df=clf_cases_df.fillna(0)\n",
    "\n",
    "\n",
    "# calculate Pearson's correlation\n",
    "corr, _ = pearsonr(clf_cases_df['delta'], clf_cases_df['Civilian_Labor_Force_Population'])"
   ]
  },
  {
   "cell_type": "code",
   "execution_count": 21,
   "id": "45c851f1",
   "metadata": {},
   "outputs": [
    {
     "name": "stdout",
     "output_type": "stream",
     "text": [
      "The correlation between New cases and CLF population is 0.14155201075814092\n"
     ]
    }
   ],
   "source": [
    "print (\"The correlation between New cases and CLF population is\", corr)"
   ]
  },
  {
   "cell_type": "markdown",
   "id": "42c37e9b",
   "metadata": {},
   "source": [
    "Finding: No strong correlation found between COVID-19 cases and Labor Force participation"
   ]
  },
  {
   "cell_type": "code",
   "execution_count": 22,
   "id": "bfece911",
   "metadata": {},
   "outputs": [],
   "source": [
    "# Creating same columns for Unemployment as for COVID-19 cases and CLF population above.\n",
    "\n",
    "df_unemployment['year']=pd.to_datetime(df_unemployment['DATE']).dt.year\n",
    "df_unemployment['month']=pd.to_datetime(df_unemployment['DATE']).dt.month\n",
    "date=[]\n",
    "for i in range(len(df_unemployment)):\n",
    "    date.append(str(list(df_unemployment['year'])[i])+'/'+str(list(df_unemployment['month'])[i]))\n",
    "df_unemployment['date']=date\n",
    "\n",
    "unemployment_cases_df=pd.merge(maricopa_cases_by_month, df_unemployment, left_on='date', right_on='date', how='inner')"
   ]
  },
  {
   "cell_type": "code",
   "execution_count": 23,
   "id": "9b61d80e",
   "metadata": {},
   "outputs": [
    {
     "name": "stdout",
     "output_type": "stream",
     "text": [
      "The correlation between New cases and Unemployment is -0.22757958425641814\n"
     ]
    }
   ],
   "source": [
    "unemployment_cases_df=unemployment_cases_df.fillna(0)\n",
    "\n",
    "# calculate Pearson's correlation\n",
    "corr, _ = pearsonr(unemployment_cases_df['delta'], unemployment_cases_df['Unemployed_Population'])\n",
    "\n",
    "print (\"The correlation between New cases and Unemployment is\", corr)"
   ]
  },
  {
   "cell_type": "markdown",
   "id": "802b65ed",
   "metadata": {},
   "source": [
    "Finding: Mild Negative correlation found between COVID-19 cases and Labor Force participation"
   ]
  },
  {
   "cell_type": "markdown",
   "id": "0b4b911e",
   "metadata": {},
   "source": [
    "### 1.6.2: Check for time-lagged crosscorrelation for CLF and Unemployment"
   ]
  },
  {
   "cell_type": "code",
   "execution_count": 24,
   "id": "e7eafc79",
   "metadata": {},
   "outputs": [],
   "source": [
    "# Declaring the cross-correlation calculation function\n",
    "def crosscorr(datax, datay, lag=0):\n",
    "    \"\"\" Lag-N cross correlation. \n",
    "    Parameters\n",
    "    ----------\n",
    "    lag : int, default 0\n",
    "    datax, datay : pandas.Series objects of equal length\n",
    "\n",
    "    Returns\n",
    "    ----------\n",
    "    crosscorr : float\n",
    "    \"\"\"\n",
    "    return datax.corr(datay.shift(lag))"
   ]
  },
  {
   "cell_type": "code",
   "execution_count": 25,
   "id": "9fe1cafb",
   "metadata": {},
   "outputs": [],
   "source": [
    "lagged_correlation_unemployment = [crosscorr(unemployment_cases_df['delta'], unemployment_cases_df['Unemployed_Population'], lag=i) for i in range(24)]"
   ]
  },
  {
   "cell_type": "code",
   "execution_count": 26,
   "id": "4a1bad7d",
   "metadata": {},
   "outputs": [
    {
     "name": "stdout",
     "output_type": "stream",
     "text": [
      "Lag with maximum correlation for Unemployment:  21\n"
     ]
    }
   ],
   "source": [
    "max_value = max(lagged_correlation_unemployment)\n",
    "max_index = lagged_correlation_unemployment.index(max_value)\n",
    "print (\"Lag with maximum correlation for Unemployment: \", max_index+1)"
   ]
  },
  {
   "cell_type": "markdown",
   "id": "4299f0cb",
   "metadata": {},
   "source": [
    "We see that there is a moderate cross-correlation between two time series starting at a lag of 18 months (0.378 and the correlation is maximum at 21 months (0.57) "
   ]
  },
  {
   "cell_type": "code",
   "execution_count": 27,
   "id": "be555992",
   "metadata": {},
   "outputs": [],
   "source": [
    "lagged_correlation_clf = [crosscorr(clf_cases_df['delta'], clf_cases_df['Civilian_Labor_Force_Population'], lag=i) for i in range(24)]"
   ]
  },
  {
   "cell_type": "code",
   "execution_count": 28,
   "id": "960e4f90",
   "metadata": {},
   "outputs": [
    {
     "name": "stdout",
     "output_type": "stream",
     "text": [
      "Lag with maximum correlation for CLF:  22\n"
     ]
    }
   ],
   "source": [
    "max_value = min(lagged_correlation_clf)\n",
    "max_index = lagged_correlation_clf.index(max_value)\n",
    "print (\"Lag with maximum correlation for CLF: \", max_index+1)"
   ]
  },
  {
   "cell_type": "markdown",
   "id": "45246b64",
   "metadata": {},
   "source": [
    "Similar correlation is observed in Civilian Labor Force participation We see that there is a moderate cross-correlation between two time series starting at a lag of 18 months (-0.36) and the correlation is maximum at 22 months (-0.67)  "
   ]
  },
  {
   "cell_type": "markdown",
   "id": "01a18cee",
   "metadata": {},
   "source": [
    "Limitation: This could be due to market slowdown, we all know that COVID-19 had a major role to play. Hence, we say it correlates with COVID-19 cases but they might not directly be the cause of it."
   ]
  },
  {
   "cell_type": "markdown",
   "id": "29b5c98d",
   "metadata": {},
   "source": [
    "### Question 2: How were the socioeconomic factors (Education, Median Household Income, and Gross Domestic Product) impacted at the start of the pandemic?\n",
    "\n",
    "In this section, we will be doing an exploratory data analysis to observe patterns for variables (Graduate Degrees, GDP and Median Household Income)"
   ]
  },
  {
   "cell_type": "markdown",
   "id": "8a02cc58",
   "metadata": {},
   "source": [
    "# 2.1 Impact on education "
   ]
  },
  {
   "cell_type": "markdown",
   "id": "ef02b622",
   "metadata": {},
   "source": [
    "### 2.1.1 Data Loading"
   ]
  },
  {
   "cell_type": "code",
   "execution_count": 29,
   "id": "6c7d905d",
   "metadata": {},
   "outputs": [],
   "source": [
    "# Reading the CSVs for all the degrees (Associate, Bachelors, High School)\n",
    "# Changing their column names to more understandable ones\n",
    "\n",
    "df_education_associate=pd.read_csv('./Education_Associate.csv')\n",
    "df_education_associate.columns=['DATE', 'Number_of_Associate_Degrees']\n",
    "df_education_associate['year']=pd.to_datetime(df_education_associate['DATE']).dt.year\n",
    "\n",
    "\n",
    "df_education_bachelor=pd.read_csv('./Education_Bachelors.csv')\n",
    "df_education_bachelor.columns=['DATE', 'Number_of_Bachelor_Degrees']\n",
    "df_education_bachelor['year']=pd.to_datetime(df_education_bachelor['DATE']).dt.year\n",
    "\n",
    "\n",
    "df_education_highschool=pd.read_csv('./Education_high_school.csv')\n",
    "df_education_highschool.columns=['DATE', 'Number_of_Highschool_Degrees']\n",
    "df_education_highschool['year']=pd.to_datetime(df_education_highschool['DATE']).dt.year\n"
   ]
  },
  {
   "cell_type": "code",
   "execution_count": 51,
   "id": "9be023c8",
   "metadata": {},
   "outputs": [],
   "source": [
    "df_education_associate.to_csv('./intermediate_data/Education_Associate.csv')\n",
    "df_education_bachelor.to_csv('./intermediate_data/Education_bachelors.csv')\n",
    "df_education_highschool.to_csv('./intermediate_data/Education_highschool.csv')"
   ]
  },
  {
   "cell_type": "code",
   "execution_count": 30,
   "id": "b82da20c",
   "metadata": {},
   "outputs": [
    {
     "data": {
      "text/html": [
       "<div>\n",
       "<style scoped>\n",
       "    .dataframe tbody tr th:only-of-type {\n",
       "        vertical-align: middle;\n",
       "    }\n",
       "\n",
       "    .dataframe tbody tr th {\n",
       "        vertical-align: top;\n",
       "    }\n",
       "\n",
       "    .dataframe thead th {\n",
       "        text-align: right;\n",
       "    }\n",
       "</style>\n",
       "<table border=\"1\" class=\"dataframe\">\n",
       "  <thead>\n",
       "    <tr style=\"text-align: right;\">\n",
       "      <th></th>\n",
       "      <th>Number_of_Associate_Degrees</th>\n",
       "      <th>year</th>\n",
       "    </tr>\n",
       "  </thead>\n",
       "  <tbody>\n",
       "    <tr>\n",
       "      <th>count</th>\n",
       "      <td>12.000000</td>\n",
       "      <td>12.000000</td>\n",
       "    </tr>\n",
       "    <tr>\n",
       "      <th>mean</th>\n",
       "      <td>38.850000</td>\n",
       "      <td>2014.500000</td>\n",
       "    </tr>\n",
       "    <tr>\n",
       "      <th>std</th>\n",
       "      <td>1.871072</td>\n",
       "      <td>3.605551</td>\n",
       "    </tr>\n",
       "    <tr>\n",
       "      <th>min</th>\n",
       "      <td>35.900000</td>\n",
       "      <td>2009.000000</td>\n",
       "    </tr>\n",
       "    <tr>\n",
       "      <th>25%</th>\n",
       "      <td>37.400000</td>\n",
       "      <td>2011.750000</td>\n",
       "    </tr>\n",
       "    <tr>\n",
       "      <th>50%</th>\n",
       "      <td>38.600000</td>\n",
       "      <td>2014.500000</td>\n",
       "    </tr>\n",
       "    <tr>\n",
       "      <th>75%</th>\n",
       "      <td>40.050000</td>\n",
       "      <td>2017.250000</td>\n",
       "    </tr>\n",
       "    <tr>\n",
       "      <th>max</th>\n",
       "      <td>42.200000</td>\n",
       "      <td>2020.000000</td>\n",
       "    </tr>\n",
       "  </tbody>\n",
       "</table>\n",
       "</div>"
      ],
      "text/plain": [
       "       Number_of_Associate_Degrees         year\n",
       "count                    12.000000    12.000000\n",
       "mean                     38.850000  2014.500000\n",
       "std                       1.871072     3.605551\n",
       "min                      35.900000  2009.000000\n",
       "25%                      37.400000  2011.750000\n",
       "50%                      38.600000  2014.500000\n",
       "75%                      40.050000  2017.250000\n",
       "max                      42.200000  2020.000000"
      ]
     },
     "execution_count": 30,
     "metadata": {},
     "output_type": "execute_result"
    }
   ],
   "source": [
    "# Studying the data and seeing that it looks complete with no specific outlier values\n",
    "df_education_associate.describe()"
   ]
  },
  {
   "cell_type": "code",
   "execution_count": 31,
   "id": "49b1a7b8",
   "metadata": {},
   "outputs": [
    {
     "data": {
      "text/html": [
       "<div>\n",
       "<style scoped>\n",
       "    .dataframe tbody tr th:only-of-type {\n",
       "        vertical-align: middle;\n",
       "    }\n",
       "\n",
       "    .dataframe tbody tr th {\n",
       "        vertical-align: top;\n",
       "    }\n",
       "\n",
       "    .dataframe thead th {\n",
       "        text-align: right;\n",
       "    }\n",
       "</style>\n",
       "<table border=\"1\" class=\"dataframe\">\n",
       "  <thead>\n",
       "    <tr style=\"text-align: right;\">\n",
       "      <th></th>\n",
       "      <th>Number_of_Bachelor_Degrees</th>\n",
       "      <th>year</th>\n",
       "    </tr>\n",
       "  </thead>\n",
       "  <tbody>\n",
       "    <tr>\n",
       "      <th>count</th>\n",
       "      <td>11.000000</td>\n",
       "      <td>11.000000</td>\n",
       "    </tr>\n",
       "    <tr>\n",
       "      <th>mean</th>\n",
       "      <td>30.754545</td>\n",
       "      <td>2015.000000</td>\n",
       "    </tr>\n",
       "    <tr>\n",
       "      <th>std</th>\n",
       "      <td>1.476729</td>\n",
       "      <td>3.316625</td>\n",
       "    </tr>\n",
       "    <tr>\n",
       "      <th>min</th>\n",
       "      <td>29.000000</td>\n",
       "      <td>2010.000000</td>\n",
       "    </tr>\n",
       "    <tr>\n",
       "      <th>25%</th>\n",
       "      <td>29.650000</td>\n",
       "      <td>2012.500000</td>\n",
       "    </tr>\n",
       "    <tr>\n",
       "      <th>50%</th>\n",
       "      <td>30.400000</td>\n",
       "      <td>2015.000000</td>\n",
       "    </tr>\n",
       "    <tr>\n",
       "      <th>75%</th>\n",
       "      <td>31.700000</td>\n",
       "      <td>2017.500000</td>\n",
       "    </tr>\n",
       "    <tr>\n",
       "      <th>max</th>\n",
       "      <td>33.400000</td>\n",
       "      <td>2020.000000</td>\n",
       "    </tr>\n",
       "  </tbody>\n",
       "</table>\n",
       "</div>"
      ],
      "text/plain": [
       "       Number_of_Bachelor_Degrees         year\n",
       "count                   11.000000    11.000000\n",
       "mean                    30.754545  2015.000000\n",
       "std                      1.476729     3.316625\n",
       "min                     29.000000  2010.000000\n",
       "25%                     29.650000  2012.500000\n",
       "50%                     30.400000  2015.000000\n",
       "75%                     31.700000  2017.500000\n",
       "max                     33.400000  2020.000000"
      ]
     },
     "execution_count": 31,
     "metadata": {},
     "output_type": "execute_result"
    }
   ],
   "source": [
    "# Studying the data and seeing that it looks complete with no specific outlier values\n",
    "df_education_bachelor.describe()"
   ]
  },
  {
   "cell_type": "code",
   "execution_count": 32,
   "id": "a0bd766a",
   "metadata": {},
   "outputs": [
    {
     "data": {
      "text/html": [
       "<div>\n",
       "<style scoped>\n",
       "    .dataframe tbody tr th:only-of-type {\n",
       "        vertical-align: middle;\n",
       "    }\n",
       "\n",
       "    .dataframe tbody tr th {\n",
       "        vertical-align: top;\n",
       "    }\n",
       "\n",
       "    .dataframe thead th {\n",
       "        text-align: right;\n",
       "    }\n",
       "</style>\n",
       "<table border=\"1\" class=\"dataframe\">\n",
       "  <thead>\n",
       "    <tr style=\"text-align: right;\">\n",
       "      <th></th>\n",
       "      <th>Number_of_Highschool_Degrees</th>\n",
       "      <th>year</th>\n",
       "    </tr>\n",
       "  </thead>\n",
       "  <tbody>\n",
       "    <tr>\n",
       "      <th>count</th>\n",
       "      <td>11.000000</td>\n",
       "      <td>11.000000</td>\n",
       "    </tr>\n",
       "    <tr>\n",
       "      <th>mean</th>\n",
       "      <td>86.809091</td>\n",
       "      <td>2015.000000</td>\n",
       "    </tr>\n",
       "    <tr>\n",
       "      <th>std</th>\n",
       "      <td>0.826383</td>\n",
       "      <td>3.316625</td>\n",
       "    </tr>\n",
       "    <tr>\n",
       "      <th>min</th>\n",
       "      <td>85.600000</td>\n",
       "      <td>2010.000000</td>\n",
       "    </tr>\n",
       "    <tr>\n",
       "      <th>25%</th>\n",
       "      <td>86.300000</td>\n",
       "      <td>2012.500000</td>\n",
       "    </tr>\n",
       "    <tr>\n",
       "      <th>50%</th>\n",
       "      <td>86.800000</td>\n",
       "      <td>2015.000000</td>\n",
       "    </tr>\n",
       "    <tr>\n",
       "      <th>75%</th>\n",
       "      <td>87.250000</td>\n",
       "      <td>2017.500000</td>\n",
       "    </tr>\n",
       "    <tr>\n",
       "      <th>max</th>\n",
       "      <td>88.400000</td>\n",
       "      <td>2020.000000</td>\n",
       "    </tr>\n",
       "  </tbody>\n",
       "</table>\n",
       "</div>"
      ],
      "text/plain": [
       "       Number_of_Highschool_Degrees         year\n",
       "count                     11.000000    11.000000\n",
       "mean                      86.809091  2015.000000\n",
       "std                        0.826383     3.316625\n",
       "min                       85.600000  2010.000000\n",
       "25%                       86.300000  2012.500000\n",
       "50%                       86.800000  2015.000000\n",
       "75%                       87.250000  2017.500000\n",
       "max                       88.400000  2020.000000"
      ]
     },
     "execution_count": 32,
     "metadata": {},
     "output_type": "execute_result"
    }
   ],
   "source": [
    "# Studying the data and seeing that it looks complete with no specific outlier values\n",
    "\n",
    "df_education_highschool.describe()"
   ]
  },
  {
   "cell_type": "markdown",
   "id": "b9ba035b",
   "metadata": {},
   "source": [
    "### 2.2.2 Exploratory Data Analysis"
   ]
  },
  {
   "cell_type": "code",
   "execution_count": 43,
   "id": "bd62e725",
   "metadata": {},
   "outputs": [
    {
     "data": {
      "image/png": "[encoded data removed]",
      "text/plain": [
       "<Figure size 720x504 with 1 Axes>"
      ]
     },
     "metadata": {
      "needs_background": "light"
     },
     "output_type": "display_data"
    }
   ],
   "source": [
    "# Plotting the line graphs for change in percentage of degrees obtained over time\n",
    "\n",
    "fig = plt.figure(figsize =(10, 7))\n",
    "\n",
    "# Setting the title and X and Y-axis labels\n",
    "plt.title('Change in percent of degrees obtained over time')\n",
    "plt.xlabel('Year')\n",
    "plt.ylabel('Percent of people educated')\n",
    "plt.xticks(rotation=30)\n",
    "\n",
    "# The variables to be plotted and their color coding scheme\n",
    "plt.plot(df_education_associate.year,df_education_associate.Number_of_Associate_Degrees, 'r', label='Associate Degrees')\n",
    "plt.plot(df_education_bachelor.year,df_education_bachelor.Number_of_Bachelor_Degrees, 'g', label='Bachelor Degrees')\n",
    "plt.plot(df_education_highschool.year,df_education_highschool.Number_of_Highschool_Degrees, 'y', label='High School Degrees')\n",
    "\n",
    "# Plotting the legend and specifying the Y-axis limit for readability\n",
    "leg = plt.legend(loc=\"upper right\")\n",
    "plt.ylim((20, 100))\n",
    "plt.savefig('./images/plots/Education.png')"
   ]
  },
  {
   "cell_type": "markdown",
   "id": "3f3ccf78",
   "metadata": {},
   "source": [
    "No concrete evidence found for number of degrees until end of 2020. But I think that is due to the limitation of the data. If there was any difference that could potentially be observed it would be in 2021 onwards, because the pandemic had just started at the end of 2019 and all the degrees listed are atleast 2 years and above. Hence no immediate impact of COVID-19 found on percentage change in degrees"
   ]
  },
  {
   "cell_type": "markdown",
   "id": "9fa0b0bc",
   "metadata": {},
   "source": [
    "# 2.2 Impact on GDP"
   ]
  },
  {
   "cell_type": "markdown",
   "id": "fcc529d7",
   "metadata": {},
   "source": [
    "### 2.2.1 Data Loading"
   ]
  },
  {
   "cell_type": "code",
   "execution_count": 45,
   "id": "700df5e6",
   "metadata": {},
   "outputs": [],
   "source": [
    "# Loading the data and renaming the columns for readability\n",
    "df_GDP=pd.read_csv('GDP.csv')\n",
    "df_GDP.columns=['DATE', 'Gross_domestic_product']\n",
    "df_GDP['year']=pd.to_datetime(df_GDP['DATE']).dt.year"
   ]
  },
  {
   "cell_type": "code",
   "execution_count": 52,
   "id": "3bf5fb23",
   "metadata": {},
   "outputs": [],
   "source": [
    "# Data Summary\n",
    "df_GDP.describe()\n",
    "df_GDP.to_csv('./intermediate_data/GDP_trends.csv')\n",
    "# no anomalies or missing values found"
   ]
  },
  {
   "cell_type": "code",
   "execution_count": 47,
   "id": "8cc19aad",
   "metadata": {},
   "outputs": [
    {
     "data": {
      "image/png": "[encoded data removed]",
      "text/plain": [
       "<Figure size 720x504 with 1 Axes>"
      ]
     },
     "metadata": {
      "needs_background": "light"
     },
     "output_type": "display_data"
    }
   ],
   "source": [
    "# Plotting the line graph for change in GDP over time\n",
    "fig = plt.figure(figsize =(10, 7))\n",
    "\n",
    "plt.title('Change in GDP obtained over time')\n",
    "plt.xlabel('Year')\n",
    "plt.ylabel('Gross Domestic Product')\n",
    "plt.xticks(rotation=30)\n",
    "plt.plot(df_GDP.year,df_GDP.Gross_domestic_product, 'r', label='GDP')\n",
    "plt.savefig('./images/plots/GDP.png')"
   ]
  },
  {
   "cell_type": "markdown",
   "id": "b08cd2e1",
   "metadata": {},
   "source": [
    "No concrete evidence found for GDP until end of 2020. But I think that is due to the limitation of the data. If there was any difference that could potentially be observed it would be in 2021 onwards, because the pandemic had just started at the end of 2019 and the impact on GDP could possibly be a little later. As an immediate impact, there was slight decrease in the rate of GDP growth from 2019-2020."
   ]
  },
  {
   "cell_type": "markdown",
   "id": "73140e4e",
   "metadata": {},
   "source": [
    "## 2.3 Impact on Household Income"
   ]
  },
  {
   "cell_type": "markdown",
   "id": "640b8975",
   "metadata": {},
   "source": [
    "### 2.3.1 Loading household income data"
   ]
  },
  {
   "cell_type": "code",
   "execution_count": 48,
   "id": "a0c05308",
   "metadata": {},
   "outputs": [],
   "source": [
    "# Loading household income data and renaming columns for understandability\n",
    "df_household_income=pd.read_csv('Household_Income.csv')\n",
    "df_household_income.columns=['DATE', 'Household_Income']\n",
    "df_household_income['year']=pd.to_datetime(df_household_income['DATE']).dt.year"
   ]
  },
  {
   "cell_type": "code",
   "execution_count": 53,
   "id": "4998abb7",
   "metadata": {},
   "outputs": [],
   "source": [
    "# Data Summary\n",
    "df_household_income.sample(4)\n",
    "df_household_income.to_csv('./intermediate_data/household_income.csv')"
   ]
  },
  {
   "cell_type": "markdown",
   "id": "9591ccb0",
   "metadata": {},
   "source": [
    "### 2.3.2 Exploratory Data Analysis"
   ]
  },
  {
   "cell_type": "code",
   "execution_count": 50,
   "id": "6f749661",
   "metadata": {},
   "outputs": [
    {
     "data": {
      "image/png": "[encoded data removed]",
      "text/plain": [
       "<Figure size 720x504 with 1 Axes>"
      ]
     },
     "metadata": {
      "needs_background": "light"
     },
     "output_type": "display_data"
    }
   ],
   "source": [
    "# Plotting the line chart with respective titles and specifying the color of the graph\n",
    "\n",
    "fig = plt.figure(figsize =(10, 7))\n",
    "\n",
    "plt.title('Change in household income over time')\n",
    "plt.xlabel('Year')\n",
    "plt.ylabel('Household Income')\n",
    "plt.xticks(rotation=30)\n",
    "plt.plot(df_household_income.year,df_household_income.Household_Income, 'r', label='Household Income')\n",
    "plt.savefig('./images/plots/Household_income.png')"
   ]
  },
  {
   "cell_type": "markdown",
   "id": "ee3b7993",
   "metadata": {},
   "source": [
    "No concrete evidence found for household income until end of 2020. But I think that is due to the limitation of the data. If there was any difference that could potentially be observed it would be in 2021 onwards, because the pandemic had just started at the end of 2019 and the impact on household could possibly be a little later. This could probably be more evident from the gradual impact point of view"
   ]
  },
  {
   "cell_type": "markdown",
   "id": "13674192",
   "metadata": {},
   "source": [
    "## Question 3: How did the COVID-19 cases affect the economic indexes of the county in different industries?"
   ]
  },
  {
   "cell_type": "markdown",
   "id": "681b25b5",
   "metadata": {},
   "source": [
    "To answer this question we will be using time-lagged crosscorrelation for each of the industries in the dataset. Then we will shortlist the ones showing the top correlations. This analysis would tell us which industries are most vulnerable from this standpoint in terms of change in employment."
   ]
  },
  {
   "cell_type": "markdown",
   "id": "8141d326",
   "metadata": {},
   "source": [
    "## 3.1 Data Reading and filtering"
   ]
  },
  {
   "cell_type": "code",
   "execution_count": 54,
   "id": "f9daef48",
   "metadata": {},
   "outputs": [],
   "source": [
    "# Reading the data and filtering for maricopa county in Arizona\n",
    "df_economic_data=pd.read_excel('./County Economic Impact Index Data_20220620 Update.xlsx', sheet_name='econ index')\n",
    "df_economic_data_maricopa=df_economic_data[df_economic_data['county']=='Maricopa County']"
   ]
  },
  {
   "cell_type": "code",
   "execution_count": 55,
   "id": "fd639a09",
   "metadata": {},
   "outputs": [
    {
     "data": {
      "text/html": [
       "<div>\n",
       "<style scoped>\n",
       "    .dataframe tbody tr th:only-of-type {\n",
       "        vertical-align: middle;\n",
       "    }\n",
       "\n",
       "    .dataframe tbody tr th {\n",
       "        vertical-align: top;\n",
       "    }\n",
       "\n",
       "    .dataframe thead th {\n",
       "        text-align: right;\n",
       "    }\n",
       "</style>\n",
       "<table border=\"1\" class=\"dataframe\">\n",
       "  <thead>\n",
       "    <tr style=\"text-align: right;\">\n",
       "      <th></th>\n",
       "      <th>area_fips</th>\n",
       "      <th>state</th>\n",
       "      <th>county</th>\n",
       "      <th>va_base</th>\n",
       "      <th>va_jan20</th>\n",
       "      <th>va_feb20</th>\n",
       "      <th>va_mar20</th>\n",
       "      <th>va_apr20</th>\n",
       "      <th>va_may20</th>\n",
       "      <th>va_jun20</th>\n",
       "      <th>...</th>\n",
       "      <th>index_jul21</th>\n",
       "      <th>index_aug21</th>\n",
       "      <th>index_sep21</th>\n",
       "      <th>index_oct21</th>\n",
       "      <th>index_nov21</th>\n",
       "      <th>index_dec21</th>\n",
       "      <th>index_jan22</th>\n",
       "      <th>index_feb22</th>\n",
       "      <th>index_mar22</th>\n",
       "      <th>index_apr22</th>\n",
       "    </tr>\n",
       "  </thead>\n",
       "  <tbody>\n",
       "    <tr>\n",
       "      <th>103</th>\n",
       "      <td>4013</td>\n",
       "      <td>Arizona</td>\n",
       "      <td>Maricopa County</td>\n",
       "      <td>1.0</td>\n",
       "      <td>310.144592</td>\n",
       "      <td>311.136701</td>\n",
       "      <td>303.128079</td>\n",
       "      <td>285.828658</td>\n",
       "      <td>301.031394</td>\n",
       "      <td>292.33066</td>\n",
       "      <td>...</td>\n",
       "      <td>0.981665</td>\n",
       "      <td>0.98101</td>\n",
       "      <td>0.982117</td>\n",
       "      <td>0.983938</td>\n",
       "      <td>0.985036</td>\n",
       "      <td>0.986216</td>\n",
       "      <td>1.006089</td>\n",
       "      <td>1.006198</td>\n",
       "      <td>1.005829</td>\n",
       "      <td>1.004737</td>\n",
       "    </tr>\n",
       "  </tbody>\n",
       "</table>\n",
       "<p>1 rows × 88 columns</p>\n",
       "</div>"
      ],
      "text/plain": [
       "     area_fips    state           county  va_base    va_jan20    va_feb20  \\\n",
       "103       4013  Arizona  Maricopa County      1.0  310.144592  311.136701   \n",
       "\n",
       "       va_mar20    va_apr20    va_may20   va_jun20  ...  index_jul21  \\\n",
       "103  303.128079  285.828658  301.031394  292.33066  ...     0.981665   \n",
       "\n",
       "     index_aug21  index_sep21  index_oct21  index_nov21  index_dec21  \\\n",
       "103      0.98101     0.982117     0.983938     0.985036     0.986216   \n",
       "\n",
       "     index_jan22  index_feb22  index_mar22  index_apr22  \n",
       "103     1.006089     1.006198     1.005829     1.004737  \n",
       "\n",
       "[1 rows x 88 columns]"
      ]
     },
     "execution_count": 55,
     "metadata": {},
     "output_type": "execute_result"
    }
   ],
   "source": [
    "df_economic_data_maricopa.head()"
   ]
  },
  {
   "cell_type": "code",
   "execution_count": 60,
   "id": "7b057a7e",
   "metadata": {},
   "outputs": [],
   "source": [
    "df_economic_data_maricopa.to_csv('./intermediate_data/Economic_data_maricopa.csv')"
   ]
  },
  {
   "cell_type": "markdown",
   "id": "a0f432b9",
   "metadata": {},
   "source": [
    "## 3.2 Exploratory data analysis for important variables"
   ]
  },
  {
   "cell_type": "markdown",
   "id": "fb6b50e0",
   "metadata": {},
   "source": [
    "#### 3.2.1 Plotting Value added by all sectors"
   ]
  },
  {
   "cell_type": "code",
   "execution_count": 56,
   "id": "e19d9fc7",
   "metadata": {},
   "outputs": [],
   "source": [
    "# Filtering for required columns (Economic index from jan 20 to april 2022)\n",
    "df_value_added_maricopa=df_economic_data_maricopa[df_economic_data_maricopa.columns[4:32]]"
   ]
  },
  {
   "cell_type": "code",
   "execution_count": 57,
   "id": "f96752b4",
   "metadata": {},
   "outputs": [
    {
     "data": {
      "image/png": "[encoded data removed]",
      "text/plain": [
       "<Figure size 720x504 with 1 Axes>"
      ]
     },
     "metadata": {
      "needs_background": "light"
     },
     "output_type": "display_data"
    }
   ],
   "source": [
    "#Adding title, labels for X and Y-axis and then specifying the X-axis and Y-axis\n",
    "fig = plt.figure(figsize =(10, 7))\n",
    "\n",
    "plt.title('Change in value added over time')\n",
    "plt.xlabel('Month')\n",
    "plt.ylabel('Monthly Value Added')\n",
    "plt.xticks(rotation=30)\n",
    "plt.plot(df_value_added_maricopa.columns,df_value_added_maricopa.iloc[0].values, 'r', label='Value Added')\n",
    "plt.savefig('./images/EDA/Economic_value.png')"
   ]
  },
  {
   "cell_type": "markdown",
   "id": "21e88de8",
   "metadata": {},
   "source": [
    "#### 3.2.2 Plotting employment change percentage by all sectors"
   ]
  },
  {
   "cell_type": "code",
   "execution_count": 58,
   "id": "60a4793a",
   "metadata": {},
   "outputs": [
    {
     "data": {
      "image/png": "[encoded data removed]",
      "text/plain": [
       "<Figure size 720x504 with 1 Axes>"
      ]
     },
     "metadata": {
      "needs_background": "light"
     },
     "output_type": "display_data"
    }
   ],
   "source": [
    "#Adding title, labels for X and Y-axis and then specifying the X-axis and Y-axis\n",
    "\n",
    "df_percentemp_maricopa=df_economic_data_maricopa[df_economic_data_maricopa.columns[32:60]]\n",
    "fig = plt.figure(figsize =(10, 7))\n",
    "\n",
    "plt.title('Change in percent employment over time')\n",
    "plt.xlabel('Month')\n",
    "plt.ylabel('Monthly Employment change(%)')\n",
    "plt.xticks(rotation=30)\n",
    "plt.plot(df_percentemp_maricopa.columns,df_percentemp_maricopa.iloc[0].values, 'r', label='Percent_employment_change')\n",
    "plt.savefig('./images/EDA/Percent_Employment_trends.png')"
   ]
  },
  {
   "cell_type": "markdown",
   "id": "a87f3ac1",
   "metadata": {},
   "source": [
    "#### 3.3.3 Plotting economic indexes"
   ]
  },
  {
   "cell_type": "code",
   "execution_count": 59,
   "id": "e4e9b972",
   "metadata": {},
   "outputs": [
    {
     "data": {
      "image/png": "[encoded data removed]",
      "text/plain": [
       "<Figure size 720x504 with 1 Axes>"
      ]
     },
     "metadata": {
      "needs_background": "light"
     },
     "output_type": "display_data"
    }
   ],
   "source": [
    "#Adding title, labels for X and Y-axis and then specifying the X-axis and Y-axis\n",
    "\n",
    "df_economic_indexes_maricopa=df_economic_data_maricopa[df_economic_data_maricopa.columns[60:]]\n",
    "fig = plt.figure(figsize =(10, 7))\n",
    "\n",
    "plt.title('Change in economic indexes over time')\n",
    "plt.xlabel('Month')\n",
    "plt.ylabel('Monthly Economic index')\n",
    "plt.xticks(rotation=30)\n",
    "plt.plot(df_economic_indexes_maricopa.columns,df_economic_indexes_maricopa.iloc[0].values, 'r', label='Economic_index_change')\n",
    "plt.savefig('./images/EDA/EconomicIndex_trends.png')"
   ]
  },
  {
   "cell_type": "markdown",
   "id": "27bd3e52",
   "metadata": {},
   "source": [
    "## 3.3 Correlation analysis for all the sectors"
   ]
  },
  {
   "cell_type": "code",
   "execution_count": 61,
   "id": "62fba073",
   "metadata": {},
   "outputs": [
    {
     "data": {
      "text/plain": [
       "(0.9999999999999999, 4.943123236102356e-205)"
      ]
     },
     "execution_count": 61,
     "metadata": {},
     "output_type": "execute_result"
    }
   ],
   "source": [
    "# Finding correlation between economic index and value added by all the sectors in Maricopa county\n",
    "pearsonr(df_economic_indexes_maricopa.iloc[0].values, df_value_added_maricopa.iloc[0].values)"
   ]
  },
  {
   "cell_type": "code",
   "execution_count": 62,
   "id": "700b56c6",
   "metadata": {},
   "outputs": [
    {
     "data": {
      "text/plain": [
       "(0.972916579931776, 4.601403652746952e-18)"
      ]
     },
     "execution_count": 62,
     "metadata": {},
     "output_type": "execute_result"
    }
   ],
   "source": [
    "# Finding the correlation between value added and the percentage change in employment in maricopa county\n",
    "pearsonr(df_percentemp_maricopa.iloc[0].values, df_value_added_maricopa.iloc[0].values)"
   ]
  },
  {
   "cell_type": "markdown",
   "id": "c81aac28",
   "metadata": {},
   "source": [
    "#### Findings:\n",
    "We see that overall value added during this period is very strongly correlated with the percentage change in employment which in turn is directly correlated to the economic index"
   ]
  },
  {
   "cell_type": "markdown",
   "id": "0f71b4d7",
   "metadata": {},
   "source": [
    "## 3.4 Diving deeper into the analysis and observing patterns at Industrial level"
   ]
  },
  {
   "cell_type": "markdown",
   "id": "228219dd",
   "metadata": {},
   "source": [
    "#### 3.4.1 Reading data "
   ]
  },
  {
   "cell_type": "code",
   "execution_count": 63,
   "id": "59b096ae",
   "metadata": {},
   "outputs": [],
   "source": [
    "## Reading the data and filtering it for Maricopa county\n",
    "df_county_by_industry=pd.read_excel('./County Economic Impact Index Data_20220620 Update.xlsx', sheet_name='county by industry')\n",
    "df_county_by_industry_maricopa=df_county_by_industry[df_county_by_industry['county']=='Maricopa County']"
   ]
  },
  {
   "cell_type": "code",
   "execution_count": 64,
   "id": "ceec1063",
   "metadata": {},
   "outputs": [
    {
     "data": {
      "text/html": [
       "<div>\n",
       "<style scoped>\n",
       "    .dataframe tbody tr th:only-of-type {\n",
       "        vertical-align: middle;\n",
       "    }\n",
       "\n",
       "    .dataframe tbody tr th {\n",
       "        vertical-align: top;\n",
       "    }\n",
       "\n",
       "    .dataframe thead th {\n",
       "        text-align: right;\n",
       "    }\n",
       "</style>\n",
       "<table border=\"1\" class=\"dataframe\">\n",
       "  <thead>\n",
       "    <tr style=\"text-align: right;\">\n",
       "      <th></th>\n",
       "      <th>area_fips</th>\n",
       "      <th>state</th>\n",
       "      <th>county</th>\n",
       "      <th>naics</th>\n",
       "      <th>naics_label</th>\n",
       "      <th>va_base</th>\n",
       "      <th>va_jan20</th>\n",
       "      <th>va_feb20</th>\n",
       "      <th>va_mar20</th>\n",
       "      <th>va_apr20</th>\n",
       "      <th>...</th>\n",
       "      <th>pcEmpAdj_jul21</th>\n",
       "      <th>pcEmpAdj_aug21</th>\n",
       "      <th>pcEmpAdj_sep21</th>\n",
       "      <th>pcEmpAdj_oct21</th>\n",
       "      <th>pcEmpAdj_nov21</th>\n",
       "      <th>pcEmpAdj_dec21</th>\n",
       "      <th>pcEmpAdj_jan22</th>\n",
       "      <th>pcEmpAdj_feb22</th>\n",
       "      <th>pcEmpAdj_mar22</th>\n",
       "      <th>pcEmpAdj_apr22</th>\n",
       "    </tr>\n",
       "  </thead>\n",
       "  <tbody>\n",
       "    <tr>\n",
       "      <th>7201</th>\n",
       "      <td>4013</td>\n",
       "      <td>Arizona</td>\n",
       "      <td>Maricopa County</td>\n",
       "      <td>11</td>\n",
       "      <td>Agriculture, Forestry, Fishing and Hunting</td>\n",
       "      <td>0.801069</td>\n",
       "      <td>0.769740</td>\n",
       "      <td>0.801069</td>\n",
       "      <td>0.829711</td>\n",
       "      <td>0.786570</td>\n",
       "      <td>...</td>\n",
       "      <td>-0.038010</td>\n",
       "      <td>-0.034276</td>\n",
       "      <td>-0.061269</td>\n",
       "      <td>-0.043252</td>\n",
       "      <td>-0.081419</td>\n",
       "      <td>-0.043149</td>\n",
       "      <td>-0.017860</td>\n",
       "      <td>0.001856</td>\n",
       "      <td>-0.003365</td>\n",
       "      <td>-0.019830</td>\n",
       "    </tr>\n",
       "    <tr>\n",
       "      <th>7202</th>\n",
       "      <td>4013</td>\n",
       "      <td>Arizona</td>\n",
       "      <td>Maricopa County</td>\n",
       "      <td>22</td>\n",
       "      <td>Utilities                                     ...</td>\n",
       "      <td>4.847154</td>\n",
       "      <td>4.909842</td>\n",
       "      <td>4.847154</td>\n",
       "      <td>4.850556</td>\n",
       "      <td>4.755353</td>\n",
       "      <td>...</td>\n",
       "      <td>-0.008033</td>\n",
       "      <td>-0.015140</td>\n",
       "      <td>-0.017148</td>\n",
       "      <td>-0.020050</td>\n",
       "      <td>-0.024445</td>\n",
       "      <td>-0.027540</td>\n",
       "      <td>-0.008705</td>\n",
       "      <td>-0.012716</td>\n",
       "      <td>-0.016753</td>\n",
       "      <td>-0.020139</td>\n",
       "    </tr>\n",
       "    <tr>\n",
       "      <th>7203</th>\n",
       "      <td>4013</td>\n",
       "      <td>Arizona</td>\n",
       "      <td>Maricopa County</td>\n",
       "      <td>23</td>\n",
       "      <td>Construction                                  ...</td>\n",
       "      <td>15.741482</td>\n",
       "      <td>16.432762</td>\n",
       "      <td>15.741482</td>\n",
       "      <td>15.847297</td>\n",
       "      <td>15.385178</td>\n",
       "      <td>...</td>\n",
       "      <td>-0.022181</td>\n",
       "      <td>-0.025733</td>\n",
       "      <td>-0.023600</td>\n",
       "      <td>-0.022440</td>\n",
       "      <td>-0.019170</td>\n",
       "      <td>-0.015361</td>\n",
       "      <td>0.003169</td>\n",
       "      <td>0.006103</td>\n",
       "      <td>0.005883</td>\n",
       "      <td>0.001582</td>\n",
       "    </tr>\n",
       "    <tr>\n",
       "      <th>7204</th>\n",
       "      <td>4013</td>\n",
       "      <td>Arizona</td>\n",
       "      <td>Maricopa County</td>\n",
       "      <td>55</td>\n",
       "      <td>Management of companies and enterprises       ...</td>\n",
       "      <td>4.651210</td>\n",
       "      <td>4.793999</td>\n",
       "      <td>4.651210</td>\n",
       "      <td>4.641178</td>\n",
       "      <td>4.542248</td>\n",
       "      <td>...</td>\n",
       "      <td>-0.038219</td>\n",
       "      <td>-0.040429</td>\n",
       "      <td>-0.041596</td>\n",
       "      <td>-0.041786</td>\n",
       "      <td>-0.042207</td>\n",
       "      <td>-0.043588</td>\n",
       "      <td>-0.023708</td>\n",
       "      <td>-0.024073</td>\n",
       "      <td>-0.026414</td>\n",
       "      <td>-0.031456</td>\n",
       "    </tr>\n",
       "    <tr>\n",
       "      <th>7205</th>\n",
       "      <td>4013</td>\n",
       "      <td>Arizona</td>\n",
       "      <td>Maricopa County</td>\n",
       "      <td>61</td>\n",
       "      <td>Educational services                          ...</td>\n",
       "      <td>4.826684</td>\n",
       "      <td>5.023587</td>\n",
       "      <td>4.826684</td>\n",
       "      <td>4.835672</td>\n",
       "      <td>4.609439</td>\n",
       "      <td>...</td>\n",
       "      <td>-0.050722</td>\n",
       "      <td>-0.050509</td>\n",
       "      <td>-0.050307</td>\n",
       "      <td>-0.044706</td>\n",
       "      <td>-0.039265</td>\n",
       "      <td>-0.034522</td>\n",
       "      <td>-0.011096</td>\n",
       "      <td>-0.012682</td>\n",
       "      <td>-0.012434</td>\n",
       "      <td>-0.012575</td>\n",
       "    </tr>\n",
       "  </tbody>\n",
       "</table>\n",
       "<p>5 rows × 90 columns</p>\n",
       "</div>"
      ],
      "text/plain": [
       "      area_fips    state           county naics  \\\n",
       "7201       4013  Arizona  Maricopa County    11   \n",
       "7202       4013  Arizona  Maricopa County    22   \n",
       "7203       4013  Arizona  Maricopa County    23   \n",
       "7204       4013  Arizona  Maricopa County    55   \n",
       "7205       4013  Arizona  Maricopa County    61   \n",
       "\n",
       "                                            naics_label    va_base   va_jan20  \\\n",
       "7201         Agriculture, Forestry, Fishing and Hunting   0.801069   0.769740   \n",
       "7202  Utilities                                     ...   4.847154   4.909842   \n",
       "7203  Construction                                  ...  15.741482  16.432762   \n",
       "7204  Management of companies and enterprises       ...   4.651210   4.793999   \n",
       "7205  Educational services                          ...   4.826684   5.023587   \n",
       "\n",
       "       va_feb20   va_mar20   va_apr20  ...  pcEmpAdj_jul21  pcEmpAdj_aug21  \\\n",
       "7201   0.801069   0.829711   0.786570  ...       -0.038010       -0.034276   \n",
       "7202   4.847154   4.850556   4.755353  ...       -0.008033       -0.015140   \n",
       "7203  15.741482  15.847297  15.385178  ...       -0.022181       -0.025733   \n",
       "7204   4.651210   4.641178   4.542248  ...       -0.038219       -0.040429   \n",
       "7205   4.826684   4.835672   4.609439  ...       -0.050722       -0.050509   \n",
       "\n",
       "      pcEmpAdj_sep21  pcEmpAdj_oct21  pcEmpAdj_nov21  pcEmpAdj_dec21  \\\n",
       "7201       -0.061269       -0.043252       -0.081419       -0.043149   \n",
       "7202       -0.017148       -0.020050       -0.024445       -0.027540   \n",
       "7203       -0.023600       -0.022440       -0.019170       -0.015361   \n",
       "7204       -0.041596       -0.041786       -0.042207       -0.043588   \n",
       "7205       -0.050307       -0.044706       -0.039265       -0.034522   \n",
       "\n",
       "      pcEmpAdj_jan22  pcEmpAdj_feb22  pcEmpAdj_mar22  pcEmpAdj_apr22  \n",
       "7201       -0.017860        0.001856       -0.003365       -0.019830  \n",
       "7202       -0.008705       -0.012716       -0.016753       -0.020139  \n",
       "7203        0.003169        0.006103        0.005883        0.001582  \n",
       "7204       -0.023708       -0.024073       -0.026414       -0.031456  \n",
       "7205       -0.011096       -0.012682       -0.012434       -0.012575  \n",
       "\n",
       "[5 rows x 90 columns]"
      ]
     },
     "execution_count": 64,
     "metadata": {},
     "output_type": "execute_result"
    }
   ],
   "source": [
    "df_county_by_industry_maricopa.head()"
   ]
  },
  {
   "cell_type": "code",
   "execution_count": 66,
   "id": "6d88b2c7",
   "metadata": {},
   "outputs": [],
   "source": [
    "df_county_by_industry_maricopa.to_csv('./intermediate_data/County_by_Industry.csv')"
   ]
  },
  {
   "cell_type": "code",
   "execution_count": 67,
   "id": "74a26940",
   "metadata": {},
   "outputs": [
    {
     "data": {
      "text/plain": [
       "[<matplotlib.lines.Line2D at 0x1d74f82bd90>]"
      ]
     },
     "execution_count": 67,
     "metadata": {},
     "output_type": "execute_result"
    },
    {
     "data": {
      "image/png": "[encoded data removed]",
      "text/plain": [
       "<Figure size 720x504 with 1 Axes>"
      ]
     },
     "metadata": {
      "needs_background": "light"
     },
     "output_type": "display_data"
    }
   ],
   "source": [
    "# Plotting sample industry data\n",
    "df_percentemp_maricopa_industry=df_county_by_industry_maricopa[df_county_by_industry_maricopa.columns[32:60]]\n",
    "fig = plt.figure(figsize =(10, 7))\n",
    "\n",
    "plt.title('Change in percent employment over time')\n",
    "plt.xlabel('Month')\n",
    "plt.ylabel('Monthly Employment change(%)')\n",
    "plt.xticks(rotation=30)\n",
    "plt.plot(df_percentemp_maricopa.columns,df_percentemp_maricopa.iloc[0].values, 'r', label='Percent_employment_change')"
   ]
  },
  {
   "cell_type": "code",
   "execution_count": 68,
   "id": "789d2a94",
   "metadata": {},
   "outputs": [
    {
     "data": {
      "text/html": [
       "<div>\n",
       "<style scoped>\n",
       "    .dataframe tbody tr th:only-of-type {\n",
       "        vertical-align: middle;\n",
       "    }\n",
       "\n",
       "    .dataframe tbody tr th {\n",
       "        vertical-align: top;\n",
       "    }\n",
       "\n",
       "    .dataframe thead th {\n",
       "        text-align: right;\n",
       "    }\n",
       "</style>\n",
       "<table border=\"1\" class=\"dataframe\">\n",
       "  <thead>\n",
       "    <tr style=\"text-align: right;\">\n",
       "      <th></th>\n",
       "      <th>year_x</th>\n",
       "      <th>month_x</th>\n",
       "      <th>number_of_cases</th>\n",
       "      <th>delta</th>\n",
       "      <th>date</th>\n",
       "      <th>DATE</th>\n",
       "      <th>Civilian_Labor_Force_Population</th>\n",
       "      <th>year_y</th>\n",
       "      <th>month_y</th>\n",
       "    </tr>\n",
       "  </thead>\n",
       "  <tbody>\n",
       "    <tr>\n",
       "      <th>0</th>\n",
       "      <td>2020</td>\n",
       "      <td>1</td>\n",
       "      <td>6</td>\n",
       "      <td>0.0</td>\n",
       "      <td>2020/1</td>\n",
       "      <td>2020-01-01</td>\n",
       "      <td>2272861</td>\n",
       "      <td>2020</td>\n",
       "      <td>1</td>\n",
       "    </tr>\n",
       "    <tr>\n",
       "      <th>1</th>\n",
       "      <td>2020</td>\n",
       "      <td>2</td>\n",
       "      <td>29</td>\n",
       "      <td>23.0</td>\n",
       "      <td>2020/2</td>\n",
       "      <td>2020-02-01</td>\n",
       "      <td>2281937</td>\n",
       "      <td>2020</td>\n",
       "      <td>2</td>\n",
       "    </tr>\n",
       "    <tr>\n",
       "      <th>2</th>\n",
       "      <td>2020</td>\n",
       "      <td>3</td>\n",
       "      <td>4010</td>\n",
       "      <td>3981.0</td>\n",
       "      <td>2020/3</td>\n",
       "      <td>2020-03-01</td>\n",
       "      <td>2269254</td>\n",
       "      <td>2020</td>\n",
       "      <td>3</td>\n",
       "    </tr>\n",
       "    <tr>\n",
       "      <th>3</th>\n",
       "      <td>2020</td>\n",
       "      <td>4</td>\n",
       "      <td>68745</td>\n",
       "      <td>64735.0</td>\n",
       "      <td>2020/4</td>\n",
       "      <td>2020-04-01</td>\n",
       "      <td>2195961</td>\n",
       "      <td>2020</td>\n",
       "      <td>4</td>\n",
       "    </tr>\n",
       "    <tr>\n",
       "      <th>4</th>\n",
       "      <td>2020</td>\n",
       "      <td>5</td>\n",
       "      <td>214115</td>\n",
       "      <td>145370.0</td>\n",
       "      <td>2020/5</td>\n",
       "      <td>2020-05-01</td>\n",
       "      <td>2212060</td>\n",
       "      <td>2020</td>\n",
       "      <td>5</td>\n",
       "    </tr>\n",
       "  </tbody>\n",
       "</table>\n",
       "</div>"
      ],
      "text/plain": [
       "   year_x  month_x  number_of_cases     delta    date        DATE  \\\n",
       "0    2020        1                6       0.0  2020/1  2020-01-01   \n",
       "1    2020        2               29      23.0  2020/2  2020-02-01   \n",
       "2    2020        3             4010    3981.0  2020/3  2020-03-01   \n",
       "3    2020        4            68745   64735.0  2020/4  2020-04-01   \n",
       "4    2020        5           214115  145370.0  2020/5  2020-05-01   \n",
       "\n",
       "   Civilian_Labor_Force_Population  year_y  month_y  \n",
       "0                          2272861    2020        1  \n",
       "1                          2281937    2020        2  \n",
       "2                          2269254    2020        3  \n",
       "3                          2195961    2020        4  \n",
       "4                          2212060    2020        5  "
      ]
     },
     "execution_count": 68,
     "metadata": {},
     "output_type": "execute_result"
    }
   ],
   "source": [
    "clf_cases_df.head()"
   ]
  },
  {
   "cell_type": "code",
   "execution_count": 69,
   "id": "0dde312b",
   "metadata": {},
   "outputs": [
    {
     "data": {
      "text/plain": [
       "array([4013, 'Arizona', 'Maricopa County', 22,\n",
       "       'Utilities                                                                                           ',\n",
       "       4.84715423743332, 4.90984207995907, 4.84715423743332,\n",
       "       4.85055603857377, 4.75535256286608, 4.89229270580657,\n",
       "       5.07612851445742, 4.83433126866419, 4.84960295041778,\n",
       "       4.8762337138678, 4.86211449715544, 4.83411146442699,\n",
       "       4.81317685393562, 4.80718406029548, 4.90767684592084,\n",
       "       4.88272903663735, 4.80611154520075, 4.81396748816706,\n",
       "       4.81694060910732, 4.80369776972206, 4.80821570768879,\n",
       "       4.77377020000443, 4.76403298825222, 4.74996779833902,\n",
       "       4.72866352176527, 4.71366220409522, 4.80495983652888,\n",
       "       4.78551903992532, 4.7659505431295, 0, 0.000182770723834658, 0.0,\n",
       "       -0.00731261425959784, -0.00840946176588209, -0.0138939224605804,\n",
       "       -0.0133454987074383, -0.0100548446069469, -0.00676419050645571,\n",
       "       -0.00932353854833179, -0.00950642085380482, -0.0106032683600891,\n",
       "       -0.00877511479518966, -0.0089579971006627, -0.00786103801273996,\n",
       "       -0.00694696123029026, -0.00859234407135512, -0.0100548446069469,\n",
       "       -0.0098720738831124, -0.0131627279836037, -0.0133454987074383,\n",
       "       -0.0137111517367459, -0.0151736522723378, -0.0162706113602605,\n",
       "       -0.0151736522723378, -0.0149908815485033, -0.015904958330953,\n",
       "       -0.0149908815485033, 0, 0.0007018140900439, -0.0189392930512263,\n",
       "       0.00931236477367667, 0.0472389088128842, -0.00264546332569707,\n",
       "       0.000505185695463817, 0.00599928845051059, 0.00308640059492848,\n",
       "       -0.00269081039460241, -0.00700975909437747, -0.00824611208555213,\n",
       "       0.0124862146989513, 0.00733931652706585, -0.00846737904802186,\n",
       "       -0.00684664601963139, -0.00623327149209796, -0.00896535690481162,\n",
       "       -0.00803327640036966, -0.0151396126127292, -0.0171484638428007,\n",
       "       -0.0200502056121413, -0.024445418871341, -0.0275402899926666,\n",
       "       -0.00870498416959372, -0.0127157491775292, -0.0167528595803079,\n",
       "       -0.0201394603715442], dtype=object)"
      ]
     },
     "execution_count": 69,
     "metadata": {},
     "output_type": "execute_result"
    }
   ],
   "source": [
    "df_county_by_industry_maricopa.iloc[1].values"
   ]
  },
  {
   "cell_type": "code",
   "execution_count": 70,
   "id": "750c2619",
   "metadata": {},
   "outputs": [],
   "source": [
    "filtered_df=df_county_by_industry_maricopa[df_county_by_industry_maricopa.columns[34:60]]\n",
    "\n",
    "values_dict={}\n",
    "for j in range(len(filtered_df)):\n",
    "    xcov_monthly = [crosscorr(pd.Series(clf_cases_df.iloc[0:28]['delta']), pd.Series(filtered_df.iloc[j].values), lag=i) for i in range(20)]\n",
    "    max_value = max(xcov_monthly)\n",
    "    max_index = xcov_monthly.index(max_value)\n",
    "    values_dict[7200+j+1]=(max_index, max_value)"
   ]
  },
  {
   "cell_type": "code",
   "execution_count": 71,
   "id": "24ea774b",
   "metadata": {},
   "outputs": [],
   "source": [
    "min_values_dict={}\n",
    "for j in range(len(filtered_df)):\n",
    "    xcov_monthly = [crosscorr(pd.Series(clf_cases_df.iloc[0:28]['delta']), pd.Series(filtered_df.iloc[j].values), lag=i) for i in range(20)]\n",
    "    max_value = min(xcov_monthly)\n",
    "    max_index = xcov_monthly.index(max_value)\n",
    "    min_values_dict[7200+j+1]=(max_index, max_value)"
   ]
  },
  {
   "cell_type": "code",
   "execution_count": 72,
   "id": "220ccae2",
   "metadata": {},
   "outputs": [],
   "source": [
    "final_dict={}\n",
    "for i in values_dict.keys():\n",
    "    if values_dict[i][1]>abs(min_values_dict[i][1]):\n",
    "        if values_dict[i][1]>0.7:\n",
    "            #final_dict[i]=values_dict[i]\n",
    "            continue\n",
    "    else:\n",
    "        if min_values_dict[i][1]<-0.7:\n",
    "            final_dict[i]=min_values_dict[i]"
   ]
  },
  {
   "cell_type": "code",
   "execution_count": 73,
   "id": "4d4764b4",
   "metadata": {},
   "outputs": [
    {
     "data": {
      "text/plain": [
       "{7201: (18, -0.7620846308776791),\n",
       " 7202: (18, -0.7132145659484582),\n",
       " 7206: (17, -0.7271901496246335),\n",
       " 7244: (15, -0.7973103729829343),\n",
       " 7252: (17, -0.7583358976455519),\n",
       " 7257: (14, -0.7003278642996527),\n",
       " 7260: (15, -0.760855182812672),\n",
       " 7274: (16, -0.7841826245310932)}"
      ]
     },
     "execution_count": 73,
     "metadata": {},
     "output_type": "execute_result"
    }
   ],
   "source": [
    "final_dict"
   ]
  },
  {
   "cell_type": "code",
   "execution_count": 74,
   "id": "2b7d0813",
   "metadata": {},
   "outputs": [
    {
     "name": "stdout",
     "output_type": "stream",
     "text": [
      "Agriculture, Forestry, Fishing and Hunting (18, -0.7620846308776791)\n",
      "Utilities                                                                                            (18, -0.7132145659484582)\n",
      "Oil and gas extraction                                                                               (17, -0.7271901496246335)\n",
      "Pipeline transportation                                                                              (15, -0.7973103729829343)\n",
      "Telecommunications (17, -0.7583358976455519)\n",
      "Insurance carriers and related activities                                                            (14, -0.7003278642996527)\n",
      "Lessors of nonfinancial intangible assets (15, -0.760855182812672)\n",
      "Computer and peripheral equipment                                                                    (16, -0.7841826245310932)\n"
     ]
    }
   ],
   "source": [
    "for i in final_dict:\n",
    "    print (df_county_by_industry.loc[i]['naics_label'], final_dict[i])"
   ]
  },
  {
   "cell_type": "markdown",
   "id": "c0d54c40",
   "metadata": {},
   "source": [
    "We see that these sectors had a direct negative correlation with COVID-19 cases. the increasein COVID-19 cases led to decrease in employment in them"
   ]
  },
  {
   "cell_type": "code",
   "execution_count": 75,
   "id": "85f467c2",
   "metadata": {},
   "outputs": [],
   "source": [
    "final_dict={}\n",
    "for i in values_dict.keys():\n",
    "    if values_dict[i][1]>abs(min_values_dict[i][1]):\n",
    "        if values_dict[i][1]>0.7:\n",
    "            final_dict[i]=values_dict[i]\n",
    "            \n",
    "    else:\n",
    "        if min_values_dict[i][1]<-0.7:\n",
    "            continue\n",
    "            #final_dict[i]=min_values_dict[i]"
   ]
  },
  {
   "cell_type": "code",
   "execution_count": 76,
   "id": "f6ce1cd9",
   "metadata": {},
   "outputs": [
    {
     "name": "stdout",
     "output_type": "stream",
     "text": [
      "Chemicals                                                                                            (12, 0.7692522237753042)\n",
      "Building material and garden supply stores                                                           (17, 0.7584997497226029)\n",
      "Food and beverage stores                                                                             (19, 0.8407630580906483)\n",
      "Couriers and messengers                                                                              (15, 0.7443109220734725)\n",
      "Warehousing and storage                                                                              (16, 0.7194752579992492)\n",
      "Data processing, hosting and related services                                                        (13, 0.7647288250481603)\n",
      "Monetary authorities - central bank (16, 0.7276187293089655)\n",
      "Credit intermediation and related activities (14, 0.7122687894941596)\n",
      "Computer systems design and related services                                                         (12, 0.7124230395105083)\n",
      "Management and technical consulting services                                                         (12, 0.7322594528783974)\n",
      "Federal government (17, 0.8257857328263403)\n"
     ]
    }
   ],
   "source": [
    "for i in final_dict:\n",
    "    print (df_county_by_industry.loc[i]['naics_label'], final_dict[i])"
   ]
  },
  {
   "cell_type": "markdown",
   "id": "3d98453f",
   "metadata": {},
   "source": [
    "These were the top industries with high positive correlation with COVID-19 cases. The result shows Industry name, Lag month followed by correlation"
   ]
  },
  {
   "cell_type": "markdown",
   "id": "a1610ea8",
   "metadata": {},
   "source": [
    "## Question 4: What are the other factors that help measure the overall community risk for similar epidemics/pandemics in the future?"
   ]
  },
  {
   "cell_type": "markdown",
   "id": "1f4c82fa",
   "metadata": {},
   "source": [
    "To answer this question we will be developing a linear regression model for determining the overall community risk index."
   ]
  },
  {
   "cell_type": "markdown",
   "id": "680ab205",
   "metadata": {},
   "source": [
    "### 4.1 Data Reading"
   ]
  },
  {
   "cell_type": "code",
   "execution_count": 77,
   "id": "3867cf3e",
   "metadata": {},
   "outputs": [],
   "source": [
    "df_indexes=pd.read_csv('./Indexes.csv')"
   ]
  },
  {
   "cell_type": "code",
   "execution_count": 78,
   "id": "ce261341",
   "metadata": {},
   "outputs": [
    {
     "data": {
      "text/plain": [
       "Index(['state', 'st_abbr', 'county', 'fips', 'location',\n",
       "       'Overall Community Risk Index',\n",
       "       'Overall Community Risk Rating, National',\n",
       "       'Overall Community Risk Rating, State', 'CDC Socio-economic Index',\n",
       "       'CDC Socio-economic Rating, National',\n",
       "       'CDC Socio-economic Rating, State', 'CDC Household Composition Index',\n",
       "       'CDC Household Composition Rating, National',\n",
       "       'CDC Household Composition Rating, State',\n",
       "       'CDC Minority Status/Language Index',\n",
       "       'CDC Minority Status/Language Rating, National',\n",
       "       'CDC Minority Status/Language Rating, State', 'County Economic Index',\n",
       "       'County Economic Rating, National', 'County Economic Rating, State',\n",
       "       'Housing Stability Index', 'Housing Stability Rating, National',\n",
       "       'Housing Stability Rating, State',\n",
       "       'Local Government Revenue Vulnerability Index',\n",
       "       'Local Government Revenue Vulnerability Rating, National',\n",
       "       'Local Government Revenue Vulnerability Rating, State', 'Unnamed: 26',\n",
       "       'Unnamed: 27', 'Unnamed: 28'],\n",
       "      dtype='object')"
      ]
     },
     "execution_count": 78,
     "metadata": {},
     "output_type": "execute_result"
    }
   ],
   "source": [
    "df_indexes.columns"
   ]
  },
  {
   "cell_type": "raw",
   "id": "258eb1fd",
   "metadata": {},
   "source": [
    "## Limiting the columns to the ones important for our analysis\n",
    "'Overall Community Risk Index'\n",
    "'CDC Socio-economic Index'\n",
    "'CDC Household Composition Index'\n",
    "'CDC Minority Status/Language Index'\n",
    "'County Economic Index'\n",
    "'Housing Stability Index'\n",
    "'Local Government Revenue Vulnerability Index'"
   ]
  },
  {
   "cell_type": "markdown",
   "id": "9d1f9cb5",
   "metadata": {},
   "source": [
    "### 4.1.2 Data Cleaning"
   ]
  },
  {
   "cell_type": "code",
   "execution_count": 79,
   "id": "129baa46",
   "metadata": {},
   "outputs": [],
   "source": [
    "df_indexes.fillna(0, inplace=True)"
   ]
  },
  {
   "cell_type": "markdown",
   "id": "83f65291",
   "metadata": {},
   "source": [
    "## 4.2 Filtering the data for specific columns"
   ]
  },
  {
   "cell_type": "code",
   "execution_count": 80,
   "id": "d239eef7",
   "metadata": {},
   "outputs": [],
   "source": [
    "train_test_df=df_indexes[['Overall Community Risk Index',\n",
    "'CDC Socio-economic Index',\n",
    "'CDC Minority Status/Language Index',\n",
    "'County Economic Index',\n",
    "'Housing Stability Index']]"
   ]
  },
  {
   "cell_type": "markdown",
   "id": "270f788b",
   "metadata": {},
   "source": [
    "### 4.3 Splitting the data for linear regression model"
   ]
  },
  {
   "cell_type": "code",
   "execution_count": 81,
   "id": "07b16b50",
   "metadata": {},
   "outputs": [],
   "source": [
    "from sklearn.model_selection import train_test_split\n",
    "X_train, X_test, y_train, y_test = train_test_split(train_test_df.drop(columns=['Overall Community Risk Index']),\n",
    "                                                                       train_test_df['Overall Community Risk Index'],\n",
    "                                                    test_size=0.25)"
   ]
  },
  {
   "cell_type": "markdown",
   "id": "4dcff43d",
   "metadata": {},
   "source": [
    "## 4.4 Training the linear regression model"
   ]
  },
  {
   "cell_type": "code",
   "execution_count": 82,
   "id": "a2e6bca6",
   "metadata": {},
   "outputs": [],
   "source": [
    "from sklearn.linear_model import LinearRegression\n",
    "linear_regressor = LinearRegression()  # create object for the class\n",
    "linear_regressor.fit(X_train, y_train)  # perform linear regression\n",
    "Y_pred = linear_regressor.predict(X_test)"
   ]
  },
  {
   "cell_type": "code",
   "execution_count": 83,
   "id": "73ddaf2a",
   "metadata": {},
   "outputs": [
    {
     "data": {
      "text/plain": [
       "0.06439324203332265"
      ]
     },
     "execution_count": 83,
     "metadata": {},
     "output_type": "execute_result"
    }
   ],
   "source": [
    "from sklearn.metrics import mean_absolute_percentage_error\n",
    "import math\n",
    "mean_absolute_percentage_error(Y_pred, y_test)"
   ]
  },
  {
   "cell_type": "markdown",
   "id": "11f967ac",
   "metadata": {},
   "source": [
    "## 4.5 Presenting the results"
   ]
  },
  {
   "cell_type": "code",
   "execution_count": 84,
   "id": "df0c9886",
   "metadata": {},
   "outputs": [],
   "source": [
    "results_df=pd.DataFrame(zip (train_test_df.columns[1:], linear_regressor.coef_))"
   ]
  },
  {
   "cell_type": "code",
   "execution_count": 85,
   "id": "5d079f87",
   "metadata": {},
   "outputs": [],
   "source": [
    "results_df.columns=['Index', 'LR Coefficient']"
   ]
  },
  {
   "cell_type": "code",
   "execution_count": 86,
   "id": "2774d955",
   "metadata": {},
   "outputs": [
    {
     "data": {
      "text/html": [
       "<div>\n",
       "<style scoped>\n",
       "    .dataframe tbody tr th:only-of-type {\n",
       "        vertical-align: middle;\n",
       "    }\n",
       "\n",
       "    .dataframe tbody tr th {\n",
       "        vertical-align: top;\n",
       "    }\n",
       "\n",
       "    .dataframe thead th {\n",
       "        text-align: right;\n",
       "    }\n",
       "</style>\n",
       "<table border=\"1\" class=\"dataframe\">\n",
       "  <thead>\n",
       "    <tr style=\"text-align: right;\">\n",
       "      <th></th>\n",
       "      <th>Index</th>\n",
       "      <th>LR Coefficient</th>\n",
       "    </tr>\n",
       "  </thead>\n",
       "  <tbody>\n",
       "    <tr>\n",
       "      <th>0</th>\n",
       "      <td>CDC Socio-economic Index</td>\n",
       "      <td>0.440483</td>\n",
       "    </tr>\n",
       "    <tr>\n",
       "      <th>1</th>\n",
       "      <td>CDC Minority Status/Language Index</td>\n",
       "      <td>0.305672</td>\n",
       "    </tr>\n",
       "    <tr>\n",
       "      <th>2</th>\n",
       "      <td>County Economic Index</td>\n",
       "      <td>0.401604</td>\n",
       "    </tr>\n",
       "    <tr>\n",
       "      <th>3</th>\n",
       "      <td>Housing Stability Index</td>\n",
       "      <td>0.287949</td>\n",
       "    </tr>\n",
       "  </tbody>\n",
       "</table>\n",
       "</div>"
      ],
      "text/plain": [
       "                                Index  LR Coefficient\n",
       "0            CDC Socio-economic Index        0.440483\n",
       "1  CDC Minority Status/Language Index        0.305672\n",
       "2               County Economic Index        0.401604\n",
       "3             Housing Stability Index        0.287949"
      ]
     },
     "execution_count": 86,
     "metadata": {},
     "output_type": "execute_result"
    }
   ],
   "source": [
    "results_df"
   ]
  },
  {
   "cell_type": "markdown",
   "id": "c6939900",
   "metadata": {},
   "source": [
    "We see that each of the indexes contribute in the calculating the overall community risk index. To explain, a unit change in CDC Socio-economic index leads to 0.44 change in overall community risk index keeping all other variables constant"
   ]
  },
  {
   "cell_type": "code",
   "execution_count": null,
   "id": "7584ec90",
   "metadata": {},
   "outputs": [],
   "source": []
  }
 ],
 "metadata": {
  "kernelspec": {
   "display_name": "Python 3",
   "language": "python",
   "name": "python3"
  },
  "language_info": {
   "codemirror_mode": {
    "name": "ipython",
    "version": 3
   },
   "file_extension": ".py",
   "mimetype": "text/x-python",
   "name": "python",
   "nbconvert_exporter": "python",
   "pygments_lexer": "ipython3",
   "version": "3.8.8"
  }
 },
 "nbformat": 4,
 "nbformat_minor": 5
}
